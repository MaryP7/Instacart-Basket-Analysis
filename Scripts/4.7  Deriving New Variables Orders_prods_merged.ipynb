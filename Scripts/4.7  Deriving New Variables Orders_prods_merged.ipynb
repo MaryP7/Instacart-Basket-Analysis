{
 "cells": [
  {
   "cell_type": "markdown",
   "id": "f92753d9",
   "metadata": {},
   "source": [
    "# Deriving New Variables "
   ]
  },
  {
   "cell_type": "markdown",
   "id": "28d1f19b",
   "metadata": {},
   "source": [
    "# Importing Libraries and Dataframes"
   ]
  },
  {
   "cell_type": "markdown",
   "id": "ab9f8119",
   "metadata": {},
   "source": [
    "# Start of Reading Task"
   ]
  },
  {
   "cell_type": "markdown",
   "id": "3bfd8917",
   "metadata": {},
   "source": [
    "## Deriving Variables Data sub-set"
   ]
  },
  {
   "cell_type": "markdown",
   "id": "2402fa5d",
   "metadata": {},
   "source": [
    "## Deriving Variables Full dataset"
   ]
  },
  {
   "cell_type": "markdown",
   "id": "dba6b8b7",
   "metadata": {},
   "source": [
    "## If-statements using Loops"
   ]
  },
  {
   "cell_type": "markdown",
   "id": "2bbe8d30",
   "metadata": {},
   "source": [
    "# Start of Exercise"
   ]
  },
  {
   "cell_type": "markdown",
   "id": "ab17dc6a",
   "metadata": {},
   "source": [
    "## Task 2"
   ]
  },
  {
   "cell_type": "markdown",
   "id": "7e12f8f5",
   "metadata": {},
   "source": [
    "## Task 3 busiest_day results"
   ]
  },
  {
   "cell_type": "markdown",
   "id": "30bfafce",
   "metadata": {},
   "source": [
    "## Task 4 Deriving Busiest_hours for orders"
   ]
  },
  {
   "cell_type": "markdown",
   "id": "1406215d",
   "metadata": {},
   "source": [
    "## Task 5 Print Frequency for Busiest_hours"
   ]
  },
  {
   "cell_type": "markdown",
   "id": "f65e3de8",
   "metadata": {},
   "source": [
    "## Task Export Dataset"
   ]
  },
  {
   "cell_type": "markdown",
   "id": "69a5a025",
   "metadata": {},
   "source": [
    "------------"
   ]
  },
  {
   "cell_type": "markdown",
   "id": "9b1eb503",
   "metadata": {},
   "source": [
    "# Importing Libraries and Dataframes"
   ]
  },
  {
   "cell_type": "code",
   "execution_count": 1,
   "id": "369d5a52",
   "metadata": {},
   "outputs": [],
   "source": [
    "import pandas as pd\n",
    "import numpy as np\n",
    "import os"
   ]
  },
  {
   "cell_type": "code",
   "execution_count": 2,
   "id": "203ff76d",
   "metadata": {},
   "outputs": [],
   "source": [
    "#pathway to datasets\n",
    "path =(r'C:\\Users\\colmu\\Desktop\\Career Foundry\\Achievement 4\\Instacart Basket Analysis\\Data')"
   ]
  },
  {
   "cell_type": "code",
   "execution_count": 3,
   "id": "0200ef38",
   "metadata": {},
   "outputs": [],
   "source": [
    "df_ords_prods_merge=pd.read_pickle(os.path.join(path,'Prepared Data','orders_products_merged.pkl'))"
   ]
  },
  {
   "cell_type": "markdown",
   "id": "7586cbdb",
   "metadata": {},
   "source": [
    "# Start of Reading Task"
   ]
  },
  {
   "cell_type": "code",
   "execution_count": 4,
   "id": "2b888bf6",
   "metadata": {},
   "outputs": [
    {
     "data": {
      "text/html": [
       "<div>\n",
       "<style scoped>\n",
       "    .dataframe tbody tr th:only-of-type {\n",
       "        vertical-align: middle;\n",
       "    }\n",
       "\n",
       "    .dataframe tbody tr th {\n",
       "        vertical-align: top;\n",
       "    }\n",
       "\n",
       "    .dataframe thead th {\n",
       "        text-align: right;\n",
       "    }\n",
       "</style>\n",
       "<table border=\"1\" class=\"dataframe\">\n",
       "  <thead>\n",
       "    <tr style=\"text-align: right;\">\n",
       "      <th></th>\n",
       "      <th>order_id</th>\n",
       "      <th>user_id</th>\n",
       "      <th>clients_order_number</th>\n",
       "      <th>orders_day_of_week</th>\n",
       "      <th>order_hour_of_day</th>\n",
       "      <th>days_since_prior_order</th>\n",
       "      <th>product_id</th>\n",
       "      <th>add_to_cart_order</th>\n",
       "      <th>reordered</th>\n",
       "      <th>product_name</th>\n",
       "      <th>aisle_id</th>\n",
       "      <th>department_id</th>\n",
       "      <th>prices</th>\n",
       "      <th>price_range_loc</th>\n",
       "      <th>busiest_period_of_day</th>\n",
       "      <th>busiest_days</th>\n",
       "      <th>loyalty_flag</th>\n",
       "      <th>spending_flag</th>\n",
       "      <th>FRQ_prior_order_flag</th>\n",
       "    </tr>\n",
       "  </thead>\n",
       "  <tbody>\n",
       "    <tr>\n",
       "      <th>0</th>\n",
       "      <td>2539329</td>\n",
       "      <td>1</td>\n",
       "      <td>1</td>\n",
       "      <td>2</td>\n",
       "      <td>8</td>\n",
       "      <td>NaN</td>\n",
       "      <td>196</td>\n",
       "      <td>1</td>\n",
       "      <td>0</td>\n",
       "      <td>Soda</td>\n",
       "      <td>77</td>\n",
       "      <td>7</td>\n",
       "      <td>9.0</td>\n",
       "      <td>Mid-range product</td>\n",
       "      <td>least orders</td>\n",
       "      <td>regularly busy days</td>\n",
       "      <td>New customer</td>\n",
       "      <td>Low spender</td>\n",
       "      <td>Non-frequent customer</td>\n",
       "    </tr>\n",
       "    <tr>\n",
       "      <th>1</th>\n",
       "      <td>2398795</td>\n",
       "      <td>1</td>\n",
       "      <td>2</td>\n",
       "      <td>3</td>\n",
       "      <td>7</td>\n",
       "      <td>15.0</td>\n",
       "      <td>196</td>\n",
       "      <td>1</td>\n",
       "      <td>1</td>\n",
       "      <td>Soda</td>\n",
       "      <td>77</td>\n",
       "      <td>7</td>\n",
       "      <td>9.0</td>\n",
       "      <td>Mid-range product</td>\n",
       "      <td>least orders</td>\n",
       "      <td>least busy days</td>\n",
       "      <td>New customer</td>\n",
       "      <td>Low spender</td>\n",
       "      <td>Non-frequent customer</td>\n",
       "    </tr>\n",
       "    <tr>\n",
       "      <th>2</th>\n",
       "      <td>473747</td>\n",
       "      <td>1</td>\n",
       "      <td>3</td>\n",
       "      <td>3</td>\n",
       "      <td>12</td>\n",
       "      <td>21.0</td>\n",
       "      <td>196</td>\n",
       "      <td>1</td>\n",
       "      <td>1</td>\n",
       "      <td>Soda</td>\n",
       "      <td>77</td>\n",
       "      <td>7</td>\n",
       "      <td>9.0</td>\n",
       "      <td>Mid-range product</td>\n",
       "      <td>most orders</td>\n",
       "      <td>least busy days</td>\n",
       "      <td>New customer</td>\n",
       "      <td>Low spender</td>\n",
       "      <td>Non-frequent customer</td>\n",
       "    </tr>\n",
       "    <tr>\n",
       "      <th>3</th>\n",
       "      <td>2254736</td>\n",
       "      <td>1</td>\n",
       "      <td>4</td>\n",
       "      <td>4</td>\n",
       "      <td>7</td>\n",
       "      <td>29.0</td>\n",
       "      <td>196</td>\n",
       "      <td>1</td>\n",
       "      <td>1</td>\n",
       "      <td>Soda</td>\n",
       "      <td>77</td>\n",
       "      <td>7</td>\n",
       "      <td>9.0</td>\n",
       "      <td>Mid-range product</td>\n",
       "      <td>least orders</td>\n",
       "      <td>least busy days</td>\n",
       "      <td>New customer</td>\n",
       "      <td>Low spender</td>\n",
       "      <td>Non-frequent customer</td>\n",
       "    </tr>\n",
       "    <tr>\n",
       "      <th>4</th>\n",
       "      <td>431534</td>\n",
       "      <td>1</td>\n",
       "      <td>5</td>\n",
       "      <td>4</td>\n",
       "      <td>15</td>\n",
       "      <td>28.0</td>\n",
       "      <td>196</td>\n",
       "      <td>1</td>\n",
       "      <td>1</td>\n",
       "      <td>Soda</td>\n",
       "      <td>77</td>\n",
       "      <td>7</td>\n",
       "      <td>9.0</td>\n",
       "      <td>Mid-range product</td>\n",
       "      <td>most orders</td>\n",
       "      <td>least busy days</td>\n",
       "      <td>New customer</td>\n",
       "      <td>Low spender</td>\n",
       "      <td>Non-frequent customer</td>\n",
       "    </tr>\n",
       "  </tbody>\n",
       "</table>\n",
       "</div>"
      ],
      "text/plain": [
       "   order_id  user_id  clients_order_number  orders_day_of_week  \\\n",
       "0   2539329        1                     1                   2   \n",
       "1   2398795        1                     2                   3   \n",
       "2    473747        1                     3                   3   \n",
       "3   2254736        1                     4                   4   \n",
       "4    431534        1                     5                   4   \n",
       "\n",
       "   order_hour_of_day  days_since_prior_order  product_id  add_to_cart_order  \\\n",
       "0                  8                     NaN         196                  1   \n",
       "1                  7                    15.0         196                  1   \n",
       "2                 12                    21.0         196                  1   \n",
       "3                  7                    29.0         196                  1   \n",
       "4                 15                    28.0         196                  1   \n",
       "\n",
       "   reordered product_name  aisle_id  department_id  prices    price_range_loc  \\\n",
       "0          0         Soda        77              7     9.0  Mid-range product   \n",
       "1          1         Soda        77              7     9.0  Mid-range product   \n",
       "2          1         Soda        77              7     9.0  Mid-range product   \n",
       "3          1         Soda        77              7     9.0  Mid-range product   \n",
       "4          1         Soda        77              7     9.0  Mid-range product   \n",
       "\n",
       "  busiest_period_of_day         busiest_days  loyalty_flag spending_flag  \\\n",
       "0          least orders  regularly busy days  New customer   Low spender   \n",
       "1          least orders      least busy days  New customer   Low spender   \n",
       "2           most orders      least busy days  New customer   Low spender   \n",
       "3          least orders      least busy days  New customer   Low spender   \n",
       "4           most orders      least busy days  New customer   Low spender   \n",
       "\n",
       "    FRQ_prior_order_flag  \n",
       "0  Non-frequent customer  \n",
       "1  Non-frequent customer  \n",
       "2  Non-frequent customer  \n",
       "3  Non-frequent customer  \n",
       "4  Non-frequent customer  "
      ]
     },
     "execution_count": 4,
     "metadata": {},
     "output_type": "execute_result"
    }
   ],
   "source": [
    "# checking dimensions\n",
    "df_ords_prods_merge.head()"
   ]
  },
  {
   "cell_type": "code",
   "execution_count": 5,
   "id": "d74238b4",
   "metadata": {},
   "outputs": [
    {
     "data": {
      "text/plain": [
       "(32404859, 13)"
      ]
     },
     "execution_count": 5,
     "metadata": {},
     "output_type": "execute_result"
    }
   ],
   "source": [
    "df_ords_prods_merge.shape"
   ]
  },
  {
   "cell_type": "markdown",
   "id": "914ff22a",
   "metadata": {},
   "source": [
    "## Deriving Variables Data sub-set"
   ]
  },
  {
   "cell_type": "code",
   "execution_count": 6,
   "id": "cb240f96",
   "metadata": {},
   "outputs": [],
   "source": [
    "#creating a subset\n",
    "df=df_ords_prods_merge[:1000000]"
   ]
  },
  {
   "cell_type": "code",
   "execution_count": 7,
   "id": "c8c1fe40",
   "metadata": {},
   "outputs": [],
   "source": [
    "#user def- price label syntax\n",
    "def price_label(row):\n",
    "\n",
    "  if row['prices'] <= 5:\n",
    "    return 'Low-range product'\n",
    "  elif (row['prices'] > 5) and (row['prices'] <= 15):\n",
    "    return 'Mid-range product'\n",
    "  elif row['prices'] > 15:\n",
    "    return 'High range'\n",
    "  else: return np.nan"
   ]
  },
  {
   "cell_type": "code",
   "execution_count": 8,
   "id": "9df39789",
   "metadata": {},
   "outputs": [
    {
     "name": "stderr",
     "output_type": "stream",
     "text": [
      "C:\\Users\\colmu\\AppData\\Local\\Temp\\ipykernel_11680\\216780269.py:2: SettingWithCopyWarning: \n",
      "A value is trying to be set on a copy of a slice from a DataFrame.\n",
      "Try using .loc[row_indexer,col_indexer] = value instead\n",
      "\n",
      "See the caveats in the documentation: https://pandas.pydata.org/pandas-docs/stable/user_guide/indexing.html#returning-a-view-versus-a-copy\n",
      "  df['price_range'] = df.apply(price_label, axis=1)\n"
     ]
    }
   ],
   "source": [
    "#creating flag for user syntax price label\n",
    "df['price_range'] = df.apply(price_label, axis=1)"
   ]
  },
  {
   "cell_type": "code",
   "execution_count": 9,
   "id": "58d79644",
   "metadata": {},
   "outputs": [
    {
     "data": {
      "text/plain": [
       "price_range\n",
       "Mid-range product    756450\n",
       "Low-range product    243550\n",
       "Name: count, dtype: int64"
      ]
     },
     "execution_count": 9,
     "metadata": {},
     "output_type": "execute_result"
    }
   ],
   "source": [
    "#value count of Price_range column\n",
    "df['price_range'].value_counts(dropna=False)"
   ]
  },
  {
   "cell_type": "code",
   "execution_count": 10,
   "id": "a6acc497",
   "metadata": {},
   "outputs": [
    {
     "data": {
      "text/plain": [
       "14.8"
      ]
     },
     "execution_count": 10,
     "metadata": {},
     "output_type": "execute_result"
    }
   ],
   "source": [
    "#most expensive product within the subset\n",
    "df['prices'].max()"
   ]
  },
  {
   "cell_type": "code",
   "execution_count": 11,
   "id": "95c8218d",
   "metadata": {},
   "outputs": [
    {
     "name": "stderr",
     "output_type": "stream",
     "text": [
      "C:\\Users\\colmu\\AppData\\Local\\Temp\\ipykernel_11680\\1019599505.py:2: SettingWithCopyWarning: \n",
      "A value is trying to be set on a copy of a slice from a DataFrame.\n",
      "Try using .loc[row_indexer,col_indexer] = value instead\n",
      "\n",
      "See the caveats in the documentation: https://pandas.pydata.org/pandas-docs/stable/user_guide/indexing.html#returning-a-view-versus-a-copy\n",
      "  df.loc[df['prices'] > 15, 'price_range_loc'] = 'High-range product'\n",
      "C:\\Users\\colmu\\AppData\\Local\\Temp\\ipykernel_11680\\1019599505.py:2: FutureWarning: Setting an item of incompatible dtype is deprecated and will raise in a future error of pandas. Value 'High-range product' has dtype incompatible with float64, please explicitly cast to a compatible dtype first.\n",
      "  df.loc[df['prices'] > 15, 'price_range_loc'] = 'High-range product'\n"
     ]
    }
   ],
   "source": [
    "#setting loc for high range products\n",
    "df.loc[df['prices'] > 15, 'price_range_loc'] = 'High-range product'"
   ]
  },
  {
   "cell_type": "code",
   "execution_count": 12,
   "id": "ea604813",
   "metadata": {},
   "outputs": [],
   "source": [
    "#setting loc for mid range products\n",
    "df.loc[(df['prices'] <= 15) & (df['prices'] > 5), 'price_range_loc'] = 'Mid-range product' "
   ]
  },
  {
   "cell_type": "code",
   "execution_count": 13,
   "id": "581d2333",
   "metadata": {},
   "outputs": [],
   "source": [
    "#setting loc for low range products\n",
    "df.loc[df['prices'] <= 5, 'price_range_loc'] = 'Low-range product'"
   ]
  },
  {
   "cell_type": "code",
   "execution_count": 14,
   "id": "d0c6d8a1",
   "metadata": {},
   "outputs": [
    {
     "data": {
      "text/plain": [
       "price_range_loc\n",
       "Mid-range product    756450\n",
       "Low-range product    243550\n",
       "Name: count, dtype: int64"
      ]
     },
     "execution_count": 14,
     "metadata": {},
     "output_type": "execute_result"
    }
   ],
   "source": [
    "df['price_range_loc'].value_counts(dropna=False)"
   ]
  },
  {
   "cell_type": "markdown",
   "id": "0e227e83",
   "metadata": {},
   "source": [
    "## Deriving Variables Full dataset"
   ]
  },
  {
   "cell_type": "code",
   "execution_count": 17,
   "id": "0c255314",
   "metadata": {},
   "outputs": [],
   "source": [
    "#setting loc for high range products\n",
    "df_ords_prods_merge.loc[df_ords_prods_merge['prices'] > 15, 'price_range_loc'] = 'High-range product'"
   ]
  },
  {
   "cell_type": "code",
   "execution_count": 18,
   "id": "3cb01340",
   "metadata": {},
   "outputs": [],
   "source": [
    "#setting loc for mid range products\n",
    "df_ords_prods_merge.loc[(df_ords_prods_merge['prices'] <= 15) & (df_ords_prods_merge['prices'] > 5), 'price_range_loc'] = 'Mid-range product' "
   ]
  },
  {
   "cell_type": "code",
   "execution_count": 19,
   "id": "f47e2b09",
   "metadata": {},
   "outputs": [],
   "source": [
    "#setting loc for low range products\n",
    "df_ords_prods_merge.loc[df_ords_prods_merge['prices'] <= 5, 'price_range_loc'] = 'Low-range product'"
   ]
  },
  {
   "cell_type": "code",
   "execution_count": 20,
   "id": "89e68acc",
   "metadata": {},
   "outputs": [
    {
     "data": {
      "text/plain": [
       "price_range_loc\n",
       "Mid-range product     21860860\n",
       "Low-range product     10126321\n",
       "High-range product      417678\n",
       "Name: count, dtype: int64"
      ]
     },
     "execution_count": 20,
     "metadata": {},
     "output_type": "execute_result"
    }
   ],
   "source": [
    "df_ords_prods_merge['price_range_loc'].value_counts(dropna=False)"
   ]
  },
  {
   "cell_type": "markdown",
   "id": "e7074fd6",
   "metadata": {},
   "source": [
    "## If-statements using Loops"
   ]
  },
  {
   "cell_type": "code",
   "execution_count": 103,
   "id": "9e999b96",
   "metadata": {},
   "outputs": [
    {
     "data": {
      "text/plain": [
       "orders_day_of_week\n",
       "0    6204182\n",
       "1    5660230\n",
       "6    4496490\n",
       "2    4213830\n",
       "5    4205791\n",
       "3    3840534\n",
       "4    3783802\n",
       "Name: count, dtype: int64"
      ]
     },
     "execution_count": 103,
     "metadata": {},
     "output_type": "execute_result"
    }
   ],
   "source": [
    "#Frequency count  DOW \n",
    "df_ords_prods_merge['orders_day_of_week'].value_counts(dropna=False)"
   ]
  },
  {
   "cell_type": "code",
   "execution_count": 134,
   "id": "ec67de1c",
   "metadata": {},
   "outputs": [],
   "source": [
    "#creating if loop to group busiest_day\n",
    "result = []\n",
    "\n",
    "for value in df_ords_prods_merge[\"orders_day_of_week\"]:\n",
    "  if value == 0:\n",
    "    result.append(\"busiest day\")\n",
    "  elif value == 4:\n",
    "    result.append(\"least busy\")\n",
    "  else:\n",
    "    result.append(\"regularly busy\")"
   ]
  },
  {
   "cell_type": "code",
   "execution_count": 135,
   "id": "e49dfce7",
   "metadata": {},
   "outputs": [],
   "source": [
    "df_ords_prods_merge['busiest_day'] = result"
   ]
  },
  {
   "cell_type": "code",
   "execution_count": 136,
   "id": "9e79ed09",
   "metadata": {},
   "outputs": [
    {
     "data": {
      "text/plain": [
       "busiest_day\n",
       "regularly busy    22416875\n",
       "busiest day        6204182\n",
       "least busy         3783802\n",
       "Name: count, dtype: int64"
      ]
     },
     "execution_count": 136,
     "metadata": {},
     "output_type": "execute_result"
    }
   ],
   "source": [
    "#busiest_day results\n",
    "df_ords_prods_merge['busiest_day'].value_counts(dropna=False)"
   ]
  },
  {
   "cell_type": "markdown",
   "id": "ad1838f1",
   "metadata": {},
   "source": [
    "--------"
   ]
  },
  {
   "cell_type": "markdown",
   "id": "6b4ac336",
   "metadata": {},
   "source": [
    "# Start of Exercise"
   ]
  },
  {
   "cell_type": "markdown",
   "id": "63521887",
   "metadata": {},
   "source": [
    "## Task 2 "
   ]
  },
  {
   "cell_type": "code",
   "execution_count": 125,
   "id": "dd833ff5",
   "metadata": {},
   "outputs": [],
   "source": [
    "#Redefining busiest_day to busiest_days\n",
    "result = []\n",
    "\n",
    "for value in df_ords_prods_merge[\"orders_day_of_week\"]:\n",
    "  if value <= 1:\n",
    "    result.append(\"busiests days\")\n",
    "  elif value == 3:\n",
    "    result.append(\"least busy days\")\n",
    "  elif value == 4:\n",
    "    result.append(\"least busy days\")\n",
    "  else:\n",
    "    result.append(\"regularly busy days\")"
   ]
  },
  {
   "cell_type": "code",
   "execution_count": 126,
   "id": "f0b523bf",
   "metadata": {},
   "outputs": [],
   "source": [
    "# set results to busiest_days\n",
    "df_ords_prods_merge['busiest_days'] = result"
   ]
  },
  {
   "cell_type": "markdown",
   "id": "30b6e4c4",
   "metadata": {},
   "source": [
    "## Task 3 busiest_day results"
   ]
  },
  {
   "cell_type": "code",
   "execution_count": 127,
   "id": "5a18d2df",
   "metadata": {},
   "outputs": [
    {
     "data": {
      "text/plain": [
       "busiest_days\n",
       "regularly busy days    12916111\n",
       "busiests days          11864412\n",
       "least busy days         7624336\n",
       "Name: count, dtype: int64"
      ]
     },
     "execution_count": 127,
     "metadata": {},
     "output_type": "execute_result"
    }
   ],
   "source": [
    "#Frequency count busiest order hours\n",
    "df_ords_prods_merge['busiest_days'].value_counts(dropna=False)"
   ]
  },
  {
   "cell_type": "markdown",
   "id": "c60cbb2e",
   "metadata": {},
   "source": [
    "## Task 4 Deriving Busiest_hours for orders"
   ]
  },
  {
   "cell_type": "code",
   "execution_count": 66,
   "id": "ae02c75d",
   "metadata": {},
   "outputs": [
    {
     "data": {
      "text/plain": [
       "order_hour_of_day\n",
       "10    2761760\n",
       "11    2736140\n",
       "14    2689136\n",
       "15    2662144\n",
       "13    2660954\n",
       "12    2618532\n",
       "16    2535202\n",
       "9     2454203\n",
       "17    2087654\n",
       "8     1718118\n",
       "18    1636502\n",
       "19    1258305\n",
       "20     976156\n",
       "7      891054\n",
       "21     795637\n",
       "22     634225\n",
       "23     402316\n",
       "6      290493\n",
       "0      218769\n",
       "1      115700\n",
       "5       87961\n",
       "2       69375\n",
       "4       53242\n",
       "3       51281\n",
       "Name: count, dtype: int64"
      ]
     },
     "execution_count": 66,
     "metadata": {},
     "output_type": "execute_result"
    }
   ],
   "source": [
    "#Frequency count busiest order hours\n",
    "df_ords_prods_merge['order_hour_of_day'].value_counts(dropna=False)"
   ]
  },
  {
   "cell_type": "code",
   "execution_count": 128,
   "id": "ce2a1995",
   "metadata": {},
   "outputs": [],
   "source": [
    "#creating subset for busiest_period_of_day (L-12 to 9 M- 10 to 16 A- 17 to 23)\n",
    "result = []\n",
    "\n",
    "for value in df_ords_prods_merge[\"order_hour_of_day\"]:\n",
    "  if value <= 9:\n",
    "    result.append(\"least orders\")\n",
    "  elif value >= 17:\n",
    "    result.append(\"average orders\")\n",
    "  else:\n",
    "    result.append(\"most orders\")"
   ]
  },
  {
   "cell_type": "code",
   "execution_count": 129,
   "id": "e32a7cb9",
   "metadata": {},
   "outputs": [],
   "source": [
    "# set results to busiest_days\n",
    "df_ords_prods_merge['busiest_period_of_day'] = result"
   ]
  },
  {
   "cell_type": "markdown",
   "id": "ddf307d3",
   "metadata": {},
   "source": [
    "## Task 5 Print Frequency for Busiest_hours"
   ]
  },
  {
   "cell_type": "code",
   "execution_count": 130,
   "id": "22802af1",
   "metadata": {},
   "outputs": [
    {
     "data": {
      "text/plain": [
       "busiest_period_of_day\n",
       "most orders       18663868\n",
       "average orders     7790795\n",
       "least orders       5950196\n",
       "Name: count, dtype: int64"
      ]
     },
     "execution_count": 130,
     "metadata": {},
     "output_type": "execute_result"
    }
   ],
   "source": [
    "#task 5 Value count busiest order hours\n",
    "df_ords_prods_merge['busiest_period_of_day'].value_counts(dropna=False)"
   ]
  },
  {
   "cell_type": "markdown",
   "id": "e44e32a1",
   "metadata": {},
   "source": [
    "## Task Export Dataset"
   ]
  },
  {
   "cell_type": "code",
   "execution_count": 138,
   "id": "030d125f",
   "metadata": {},
   "outputs": [],
   "source": [
    "#Export df_ords_prods_merge into a pickle\n",
    "df_ords_prods_merge.to_pickle(os.path.join(path,'Prepared Data', 'orders_products_merge.pkl'))"
   ]
  }
 ],
 "metadata": {
  "kernelspec": {
   "display_name": "Python 3 (ipykernel)",
   "language": "python",
   "name": "python3"
  },
  "language_info": {
   "codemirror_mode": {
    "name": "ipython",
    "version": 3
   },
   "file_extension": ".py",
   "mimetype": "text/x-python",
   "name": "python",
   "nbconvert_exporter": "python",
   "pygments_lexer": "ipython3",
   "version": "3.11.5"
  }
 },
 "nbformat": 4,
 "nbformat_minor": 5
}
