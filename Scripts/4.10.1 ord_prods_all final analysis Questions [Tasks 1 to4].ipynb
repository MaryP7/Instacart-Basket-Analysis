{
 "cells": [
  {
   "cell_type": "markdown",
   "id": "1cd83361",
   "metadata": {},
   "source": [
    "# 10.1 Final Analysis Questions (Answers Tasks 1-4)"
   ]
  },
  {
   "cell_type": "markdown",
   "id": "c3d45122",
   "metadata": {},
   "source": [
    "# Import Libraries and Datasets"
   ]
  },
  {
   "cell_type": "markdown",
   "id": "d67ae7e1",
   "metadata": {},
   "source": [
    "## Set PD code"
   ]
  },
  {
   "cell_type": "markdown",
   "id": "e161c286",
   "metadata": {},
   "source": [
    "# Reviewing for PHI/Security Implications"
   ]
  },
  {
   "cell_type": "markdown",
   "id": "f2cce0c9",
   "metadata": {},
   "source": [
    "# Analysis of Regional Sales"
   ]
  },
  {
   "cell_type": "markdown",
   "id": "eaa6c0bd",
   "metadata": {},
   "source": [
    "## Creating a Regional Flag"
   ]
  },
  {
   "cell_type": "markdown",
   "id": "cd96ec35",
   "metadata": {},
   "source": [
    "##  Creating a Crosstab for regional and spending flag for analysis"
   ]
  },
  {
   "cell_type": "markdown",
   "id": "b72298e0",
   "metadata": {},
   "source": [
    "# Creating new data Set without Low-Activity Customers"
   ]
  },
  {
   "cell_type": "markdown",
   "id": "82941631",
   "metadata": {},
   "source": [
    "## Create Exclusionary Flag for Low-Spenders"
   ]
  },
  {
   "cell_type": "markdown",
   "id": "2059270b",
   "metadata": {},
   "source": [
    "## Exporting Active members data set as orders_products_active.pkl"
   ]
  },
  {
   "cell_type": "markdown",
   "id": "c1af8cce",
   "metadata": {},
   "source": [
    "------"
   ]
  },
  {
   "cell_type": "markdown",
   "id": "2349eab4",
   "metadata": {},
   "source": [
    "# Import Libraries and Datasets"
   ]
  },
  {
   "cell_type": "code",
   "execution_count": 1,
   "id": "236ec0c0",
   "metadata": {},
   "outputs": [],
   "source": [
    "#Import libraries\n",
    "import pandas as pd\n",
    "import numpy as np\n",
    "import os\n",
    "import matplotlib.pyplot as plt\n",
    "import seaborn as sns\n",
    "import scipy"
   ]
  },
  {
   "cell_type": "code",
   "execution_count": 2,
   "id": "c8cc23a4",
   "metadata": {},
   "outputs": [],
   "source": [
    "#pathway to datasets\n",
    "path =(r'C:\\Users\\colmu\\Desktop\\Career Foundry\\Achievement 4\\Instacart Basket Analysis')"
   ]
  },
  {
   "cell_type": "code",
   "execution_count": 3,
   "id": "d40512ae",
   "metadata": {},
   "outputs": [],
   "source": [
    "#Importing dataset\n",
    "ords_prods=pd.read_pickle(os.path.join(path, 'data','Prepared Data','orders_products_all.pkl'))"
   ]
  },
  {
   "cell_type": "markdown",
   "id": "6c8bb376",
   "metadata": {},
   "source": [
    "### Set PD code"
   ]
  },
  {
   "cell_type": "code",
   "execution_count": 5,
   "id": "266afebe",
   "metadata": {},
   "outputs": [],
   "source": [
    "#creating PD setting, display max columns\n",
    "pd.set_option('display.max_columns', 1000)"
   ]
  },
  {
   "cell_type": "markdown",
   "id": "848b7141",
   "metadata": {},
   "source": [
    "# Reviewing for PHI/Security Implications"
   ]
  },
  {
   "cell_type": "code",
   "execution_count": 6,
   "id": "69a05ec8",
   "metadata": {},
   "outputs": [
    {
     "data": {
      "text/html": [
       "<div>\n",
       "<style scoped>\n",
       "    .dataframe tbody tr th:only-of-type {\n",
       "        vertical-align: middle;\n",
       "    }\n",
       "\n",
       "    .dataframe tbody tr th {\n",
       "        vertical-align: top;\n",
       "    }\n",
       "\n",
       "    .dataframe thead th {\n",
       "        text-align: right;\n",
       "    }\n",
       "</style>\n",
       "<table border=\"1\" class=\"dataframe\">\n",
       "  <thead>\n",
       "    <tr style=\"text-align: right;\">\n",
       "      <th></th>\n",
       "      <th>order_id</th>\n",
       "      <th>user_id</th>\n",
       "      <th>clients_order_number</th>\n",
       "      <th>orders_day_of_week</th>\n",
       "      <th>order_hour_of_day</th>\n",
       "      <th>days_since_prior_order</th>\n",
       "      <th>product_id</th>\n",
       "      <th>add_to_cart_order</th>\n",
       "      <th>reordered</th>\n",
       "      <th>product_name</th>\n",
       "      <th>aisle_id</th>\n",
       "      <th>department_id</th>\n",
       "      <th>prices</th>\n",
       "      <th>Gender</th>\n",
       "      <th>state_usa</th>\n",
       "      <th>Age</th>\n",
       "      <th>date_joined</th>\n",
       "      <th>n_dependants</th>\n",
       "      <th>fam_status</th>\n",
       "      <th>income</th>\n",
       "      <th>price_range_loc</th>\n",
       "      <th>busiest_period_of_day</th>\n",
       "      <th>busiest_days</th>\n",
       "      <th>loyalty_flag</th>\n",
       "      <th>spending_flag</th>\n",
       "      <th>FRQ_prior_order_flag</th>\n",
       "    </tr>\n",
       "  </thead>\n",
       "  <tbody>\n",
       "    <tr>\n",
       "      <th>0</th>\n",
       "      <td>2539329</td>\n",
       "      <td>1</td>\n",
       "      <td>1</td>\n",
       "      <td>2</td>\n",
       "      <td>8</td>\n",
       "      <td>NaN</td>\n",
       "      <td>196</td>\n",
       "      <td>1</td>\n",
       "      <td>0</td>\n",
       "      <td>Soda</td>\n",
       "      <td>77</td>\n",
       "      <td>7</td>\n",
       "      <td>9.0</td>\n",
       "      <td>Female</td>\n",
       "      <td>Alabama</td>\n",
       "      <td>31</td>\n",
       "      <td>2/17/2019</td>\n",
       "      <td>3</td>\n",
       "      <td>married</td>\n",
       "      <td>40423</td>\n",
       "      <td>Mid-range product</td>\n",
       "      <td>least orders</td>\n",
       "      <td>regularly busy days</td>\n",
       "      <td>New customer</td>\n",
       "      <td>Low spender</td>\n",
       "      <td>Non-frequent customer</td>\n",
       "    </tr>\n",
       "    <tr>\n",
       "      <th>1</th>\n",
       "      <td>2398795</td>\n",
       "      <td>1</td>\n",
       "      <td>2</td>\n",
       "      <td>3</td>\n",
       "      <td>7</td>\n",
       "      <td>15.0</td>\n",
       "      <td>196</td>\n",
       "      <td>1</td>\n",
       "      <td>1</td>\n",
       "      <td>Soda</td>\n",
       "      <td>77</td>\n",
       "      <td>7</td>\n",
       "      <td>9.0</td>\n",
       "      <td>Female</td>\n",
       "      <td>Alabama</td>\n",
       "      <td>31</td>\n",
       "      <td>2/17/2019</td>\n",
       "      <td>3</td>\n",
       "      <td>married</td>\n",
       "      <td>40423</td>\n",
       "      <td>Mid-range product</td>\n",
       "      <td>least orders</td>\n",
       "      <td>least busy days</td>\n",
       "      <td>New customer</td>\n",
       "      <td>Low spender</td>\n",
       "      <td>Non-frequent customer</td>\n",
       "    </tr>\n",
       "    <tr>\n",
       "      <th>2</th>\n",
       "      <td>473747</td>\n",
       "      <td>1</td>\n",
       "      <td>3</td>\n",
       "      <td>3</td>\n",
       "      <td>12</td>\n",
       "      <td>21.0</td>\n",
       "      <td>196</td>\n",
       "      <td>1</td>\n",
       "      <td>1</td>\n",
       "      <td>Soda</td>\n",
       "      <td>77</td>\n",
       "      <td>7</td>\n",
       "      <td>9.0</td>\n",
       "      <td>Female</td>\n",
       "      <td>Alabama</td>\n",
       "      <td>31</td>\n",
       "      <td>2/17/2019</td>\n",
       "      <td>3</td>\n",
       "      <td>married</td>\n",
       "      <td>40423</td>\n",
       "      <td>Mid-range product</td>\n",
       "      <td>most orders</td>\n",
       "      <td>least busy days</td>\n",
       "      <td>New customer</td>\n",
       "      <td>Low spender</td>\n",
       "      <td>Non-frequent customer</td>\n",
       "    </tr>\n",
       "    <tr>\n",
       "      <th>3</th>\n",
       "      <td>2254736</td>\n",
       "      <td>1</td>\n",
       "      <td>4</td>\n",
       "      <td>4</td>\n",
       "      <td>7</td>\n",
       "      <td>29.0</td>\n",
       "      <td>196</td>\n",
       "      <td>1</td>\n",
       "      <td>1</td>\n",
       "      <td>Soda</td>\n",
       "      <td>77</td>\n",
       "      <td>7</td>\n",
       "      <td>9.0</td>\n",
       "      <td>Female</td>\n",
       "      <td>Alabama</td>\n",
       "      <td>31</td>\n",
       "      <td>2/17/2019</td>\n",
       "      <td>3</td>\n",
       "      <td>married</td>\n",
       "      <td>40423</td>\n",
       "      <td>Mid-range product</td>\n",
       "      <td>least orders</td>\n",
       "      <td>least busy days</td>\n",
       "      <td>New customer</td>\n",
       "      <td>Low spender</td>\n",
       "      <td>Non-frequent customer</td>\n",
       "    </tr>\n",
       "    <tr>\n",
       "      <th>4</th>\n",
       "      <td>431534</td>\n",
       "      <td>1</td>\n",
       "      <td>5</td>\n",
       "      <td>4</td>\n",
       "      <td>15</td>\n",
       "      <td>28.0</td>\n",
       "      <td>196</td>\n",
       "      <td>1</td>\n",
       "      <td>1</td>\n",
       "      <td>Soda</td>\n",
       "      <td>77</td>\n",
       "      <td>7</td>\n",
       "      <td>9.0</td>\n",
       "      <td>Female</td>\n",
       "      <td>Alabama</td>\n",
       "      <td>31</td>\n",
       "      <td>2/17/2019</td>\n",
       "      <td>3</td>\n",
       "      <td>married</td>\n",
       "      <td>40423</td>\n",
       "      <td>Mid-range product</td>\n",
       "      <td>most orders</td>\n",
       "      <td>least busy days</td>\n",
       "      <td>New customer</td>\n",
       "      <td>Low spender</td>\n",
       "      <td>Non-frequent customer</td>\n",
       "    </tr>\n",
       "  </tbody>\n",
       "</table>\n",
       "</div>"
      ],
      "text/plain": [
       "  order_id user_id  clients_order_number  orders_day_of_week  \\\n",
       "0  2539329       1                     1                   2   \n",
       "1  2398795       1                     2                   3   \n",
       "2   473747       1                     3                   3   \n",
       "3  2254736       1                     4                   4   \n",
       "4   431534       1                     5                   4   \n",
       "\n",
       "   order_hour_of_day  days_since_prior_order  product_id  add_to_cart_order  \\\n",
       "0                  8                     NaN         196                  1   \n",
       "1                  7                    15.0         196                  1   \n",
       "2                 12                    21.0         196                  1   \n",
       "3                  7                    29.0         196                  1   \n",
       "4                 15                    28.0         196                  1   \n",
       "\n",
       "   reordered product_name  aisle_id  department_id  prices  Gender state_usa  \\\n",
       "0          0         Soda        77              7     9.0  Female   Alabama   \n",
       "1          1         Soda        77              7     9.0  Female   Alabama   \n",
       "2          1         Soda        77              7     9.0  Female   Alabama   \n",
       "3          1         Soda        77              7     9.0  Female   Alabama   \n",
       "4          1         Soda        77              7     9.0  Female   Alabama   \n",
       "\n",
       "   Age date_joined  n_dependants fam_status  income    price_range_loc  \\\n",
       "0   31   2/17/2019             3    married   40423  Mid-range product   \n",
       "1   31   2/17/2019             3    married   40423  Mid-range product   \n",
       "2   31   2/17/2019             3    married   40423  Mid-range product   \n",
       "3   31   2/17/2019             3    married   40423  Mid-range product   \n",
       "4   31   2/17/2019             3    married   40423  Mid-range product   \n",
       "\n",
       "  busiest_period_of_day         busiest_days  loyalty_flag spending_flag  \\\n",
       "0          least orders  regularly busy days  New customer   Low spender   \n",
       "1          least orders      least busy days  New customer   Low spender   \n",
       "2           most orders      least busy days  New customer   Low spender   \n",
       "3          least orders      least busy days  New customer   Low spender   \n",
       "4           most orders      least busy days  New customer   Low spender   \n",
       "\n",
       "    FRQ_prior_order_flag  \n",
       "0  Non-frequent customer  \n",
       "1  Non-frequent customer  \n",
       "2  Non-frequent customer  \n",
       "3  Non-frequent customer  \n",
       "4  Non-frequent customer  "
      ]
     },
     "execution_count": 6,
     "metadata": {},
     "output_type": "execute_result"
    }
   ],
   "source": [
    "#reviewing column headers and first 5 rows for PHI implications. PHI previously removed, no changes made.\n",
    "ords_prods.head()"
   ]
  },
  {
   "cell_type": "markdown",
   "id": "876816fc",
   "metadata": {},
   "source": [
    "# Analysis of Regional Sales"
   ]
  },
  {
   "cell_type": "markdown",
   "id": "82104277",
   "metadata": {},
   "source": [
    "## Creating a Regional Flag"
   ]
  },
  {
   "cell_type": "code",
   "execution_count": 5,
   "id": "5698a450",
   "metadata": {},
   "outputs": [],
   "source": [
    "#creating LOC for Northeast region\n",
    "ords_prods.loc[ords_prods['state_usa'].isin(['Maine','New Hampshire','Vermont','Massachusetts', 'Rhode Island','Connecticut','New York','Pennsylvania','New Jersey']), 'regional_flag'] = 'Northeast'"
   ]
  },
  {
   "cell_type": "code",
   "execution_count": 6,
   "id": "1a9bfce3",
   "metadata": {},
   "outputs": [],
   "source": [
    "#creating LOC for Midwest\n",
    "ords_prods.loc[ords_prods['state_usa'].isin(['Wisconsin','Michigan','Illinois','Indiana', 'Ohio', 'North Dakota','South Dakota''Nebraska','Kansas''Minnesota','Iowa''Missouri']), 'regional_flag'] = 'Midwest'"
   ]
  },
  {
   "cell_type": "code",
   "execution_count": 7,
   "id": "b61d568e",
   "metadata": {},
   "outputs": [],
   "source": [
    "#creating LOC for South region\n",
    "ords_prods.loc[ords_prods['state_usa'].isin(['Delaware', 'Maryland','District of Columbia''Virginia''West Virginia','North Carolina','South Carolina', 'Georgia','Florida',' Kentucky', 'Tennessee', 'Mississippi', 'Alabama', 'Oklahoma', 'Texas', 'Arkansas', 'Louisiana']), 'regional_flag'] = 'South'"
   ]
  },
  {
   "cell_type": "code",
   "execution_count": 8,
   "id": "c9f65239",
   "metadata": {},
   "outputs": [],
   "source": [
    "#creating LOC for West region\n",
    "ords_prods.loc[ords_prods['state_usa'].isin(['Idaho', 'Montana','Wyoming','Nevada','Utah','Colorado','Arizona','New Mexico','Alaska','Washington','Oregon','California','Hawaii']), 'regional_flag'] = 'West'"
   ]
  },
  {
   "cell_type": "code",
   "execution_count": 9,
   "id": "29f02753",
   "metadata": {},
   "outputs": [
    {
     "data": {
      "text/plain": [
       "regional_flag\n",
       "West         8292913\n",
       "South        8291983\n",
       "NaN          6311075\n",
       "Northeast    5722736\n",
       "Midwest      3786152\n",
       "Name: count, dtype: int64"
      ]
     },
     "execution_count": 9,
     "metadata": {},
     "output_type": "execute_result"
    }
   ],
   "source": [
    "#checking regional Flag value counts\n",
    "ords_prods['regional_flag'].value_counts(dropna=False)"
   ]
  },
  {
   "cell_type": "code",
   "execution_count": 10,
   "id": "123b9b91",
   "metadata": {},
   "outputs": [
    {
     "data": {
      "text/plain": [
       "26093784"
      ]
     },
     "execution_count": 10,
     "metadata": {},
     "output_type": "execute_result"
    }
   ],
   "source": [
    "#Total Row count for Regional_flag\n",
    "ords_prods['regional_flag'].count()"
   ]
  },
  {
   "cell_type": "markdown",
   "id": "50e88b54",
   "metadata": {},
   "source": [
    "##  Creating a Crosstab for regional and spending flag for analysis"
   ]
  },
  {
   "cell_type": "code",
   "execution_count": 15,
   "id": "a0c17f23",
   "metadata": {},
   "outputs": [],
   "source": [
    "#creating a crosstab \n",
    "region_crosstab=pd.crosstab(ords_prods['regional_flag'],ords_prods['spending_flag'],dropna=False)"
   ]
  },
  {
   "cell_type": "code",
   "execution_count": 85,
   "id": "2da38905",
   "metadata": {},
   "outputs": [
    {
     "data": {
      "text/html": [
       "<div>\n",
       "<style scoped>\n",
       "    .dataframe tbody tr th:only-of-type {\n",
       "        vertical-align: middle;\n",
       "    }\n",
       "\n",
       "    .dataframe tbody tr th {\n",
       "        vertical-align: top;\n",
       "    }\n",
       "\n",
       "    .dataframe thead th {\n",
       "        text-align: right;\n",
       "    }\n",
       "</style>\n",
       "<table border=\"1\" class=\"dataframe\">\n",
       "  <thead>\n",
       "    <tr style=\"text-align: right;\">\n",
       "      <th>spending_flag</th>\n",
       "      <th>High spender</th>\n",
       "      <th>Low spender</th>\n",
       "    </tr>\n",
       "    <tr>\n",
       "      <th>regional_flag</th>\n",
       "      <th></th>\n",
       "      <th></th>\n",
       "    </tr>\n",
       "  </thead>\n",
       "  <tbody>\n",
       "    <tr>\n",
       "      <th>Midwest</th>\n",
       "      <td>81703</td>\n",
       "      <td>3704449</td>\n",
       "    </tr>\n",
       "    <tr>\n",
       "      <th>Northeast</th>\n",
       "      <td>108225</td>\n",
       "      <td>5614511</td>\n",
       "    </tr>\n",
       "    <tr>\n",
       "      <th>South</th>\n",
       "      <td>157514</td>\n",
       "      <td>8134469</td>\n",
       "    </tr>\n",
       "    <tr>\n",
       "      <th>West</th>\n",
       "      <td>160354</td>\n",
       "      <td>8132559</td>\n",
       "    </tr>\n",
       "    <tr>\n",
       "      <th>NaN</th>\n",
       "      <td>126449</td>\n",
       "      <td>6184626</td>\n",
       "    </tr>\n",
       "  </tbody>\n",
       "</table>\n",
       "</div>"
      ],
      "text/plain": [
       "spending_flag  High spender  Low spender\n",
       "regional_flag                           \n",
       "Midwest               81703      3704449\n",
       "Northeast            108225      5614511\n",
       "South                157514      8134469\n",
       "West                 160354      8132559\n",
       "NaN                  126449      6184626"
      ]
     },
     "execution_count": 85,
     "metadata": {},
     "output_type": "execute_result"
    }
   ],
   "source": [
    "#check\n",
    "region_crosstab"
   ]
  },
  {
   "cell_type": "markdown",
   "id": "26a79f72",
   "metadata": {},
   "source": [
    "# Creating new data Set without Low-Activity Customers"
   ]
  },
  {
   "cell_type": "markdown",
   "id": "6720beef",
   "metadata": {},
   "source": [
    "## Create Exclusionary Flag for Low-Spenders"
   ]
  },
  {
   "cell_type": "code",
   "execution_count": 11,
   "id": "4384aff7",
   "metadata": {},
   "outputs": [
    {
     "name": "stderr",
     "output_type": "stream",
     "text": [
      "C:\\Users\\colmu\\AppData\\Local\\Temp\\ipykernel_14188\\3507667209.py:2: FutureWarning: The provided callable <function amax at 0x0000021205D41D00> is currently using SeriesGroupBy.max. In a future version of pandas, the provided callable will be used directly. To keep current behavior pass the string \"max\" instead.\n",
      "  ords_prods['max_order'] = ords_prods.groupby(['user_id'])['clients_order_number'].transform(np.max)\n"
     ]
    }
   ],
   "source": [
    "#creating max column for client orders\n",
    "ords_prods['max_order'] = ords_prods.groupby(['user_id'])['clients_order_number'].transform(np.max)"
   ]
  },
  {
   "cell_type": "code",
   "execution_count": 12,
   "id": "d464f9ad",
   "metadata": {},
   "outputs": [],
   "source": [
    "#Creating Exclusionary row for low acitvity and active cusotmers\n",
    "result = []\n",
    "\n",
    "for value in ords_prods[\"max_order\"]:\n",
    "  if value < 5:\n",
    "    result.append(\"Low_activity\")\n",
    "  else:\n",
    "    result.append(\"Active\")"
   ]
  },
  {
   "cell_type": "code",
   "execution_count": 13,
   "id": "bda8ade5",
   "metadata": {},
   "outputs": [],
   "source": [
    "# set results to Customer_activity\n",
    "ords_prods['Customer_activity'] = result"
   ]
  },
  {
   "cell_type": "code",
   "execution_count": 14,
   "id": "8af77f61",
   "metadata": {},
   "outputs": [
    {
     "data": {
      "text/plain": [
       "Customer_activity\n",
       "Active          30964564\n",
       "Low_activity     1440295\n",
       "Name: count, dtype: int64"
      ]
     },
     "execution_count": 14,
     "metadata": {},
     "output_type": "execute_result"
    }
   ],
   "source": [
    "ords_prods['Customer_activity'].value_counts()"
   ]
  },
  {
   "cell_type": "code",
   "execution_count": 15,
   "id": "8ec7155d",
   "metadata": {},
   "outputs": [],
   "source": [
    "#creating subset of low_activity customers\n",
    "orders_products_Low_Activity = ords_prods[ords_prods['Customer_activity'] =='Low_activity']"
   ]
  },
  {
   "cell_type": "code",
   "execution_count": 16,
   "id": "575f46be",
   "metadata": {},
   "outputs": [],
   "source": [
    "#creating subset of active customers\n",
    "orders_products_active = ords_prods[ords_prods['Customer_activity'] =='Active']"
   ]
  },
  {
   "cell_type": "code",
   "execution_count": 17,
   "id": "76ea4d79",
   "metadata": {},
   "outputs": [
    {
     "data": {
      "text/plain": [
       "(1440295, 29)"
      ]
     },
     "execution_count": 17,
     "metadata": {},
     "output_type": "execute_result"
    }
   ],
   "source": [
    "#check\n",
    "orders_products_Low_Activity.shape"
   ]
  },
  {
   "cell_type": "code",
   "execution_count": 18,
   "id": "097cd8fb",
   "metadata": {},
   "outputs": [
    {
     "data": {
      "text/plain": [
       "(30964564, 29)"
      ]
     },
     "execution_count": 18,
     "metadata": {},
     "output_type": "execute_result"
    }
   ],
   "source": [
    "#check\n",
    "orders_products_active.shape"
   ]
  },
  {
   "cell_type": "code",
   "execution_count": 19,
   "id": "94776cc8",
   "metadata": {},
   "outputs": [
    {
     "data": {
      "text/plain": [
       "32404859"
      ]
     },
     "execution_count": 19,
     "metadata": {},
     "output_type": "execute_result"
    }
   ],
   "source": [
    "#matching total data set row count\n",
    "1440295 + 30964564"
   ]
  },
  {
   "cell_type": "markdown",
   "id": "f2d39ffb",
   "metadata": {},
   "source": [
    "## Exporting Active members data set as orders_products_active.pkl"
   ]
  },
  {
   "cell_type": "code",
   "execution_count": 20,
   "id": "9a6ff097",
   "metadata": {},
   "outputs": [],
   "source": [
    "#Export orders_products_active as PKL\n",
    "orders_products_active.to_pickle(os.path.join(path,'Data','Prepared Data','orders_products_active.pkl'))"
   ]
  },
  {
   "cell_type": "code",
   "execution_count": null,
   "id": "daa7e20b",
   "metadata": {},
   "outputs": [],
   "source": []
  }
 ],
 "metadata": {
  "kernelspec": {
   "display_name": "Python 3 (ipykernel)",
   "language": "python",
   "name": "python3"
  },
  "language_info": {
   "codemirror_mode": {
    "name": "ipython",
    "version": 3
   },
   "file_extension": ".py",
   "mimetype": "text/x-python",
   "name": "python",
   "nbconvert_exporter": "python",
   "pygments_lexer": "ipython3",
   "version": "3.11.5"
  }
 },
 "nbformat": 4,
 "nbformat_minor": 5
}
